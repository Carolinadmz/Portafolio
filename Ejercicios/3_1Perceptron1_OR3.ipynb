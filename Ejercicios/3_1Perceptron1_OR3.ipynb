{
  "nbformat": 4,
  "nbformat_minor": 0,
  "metadata": {
    "colab": {
      "provenance": [],
      "authorship_tag": "ABX9TyO0fcwASgL0+bwykD5x+46n",
      "include_colab_link": true
    },
    "kernelspec": {
      "name": "python3",
      "display_name": "Python 3"
    },
    "language_info": {
      "name": "python"
    }
  },
  "cells": [
    {
      "cell_type": "markdown",
      "metadata": {
        "id": "view-in-github",
        "colab_type": "text"
      },
      "source": [
        "<a href=\"https://colab.research.google.com/github/Carolinadmz/Portafolio/blob/main/Ejercicios/3_1Perceptron1_OR3.ipynb\" target=\"_parent\"><img src=\"https://colab.research.google.com/assets/colab-badge.svg\" alt=\"Open In Colab\"/></a>"
      ]
    },
    {
      "cell_type": "code",
      "execution_count": null,
      "metadata": {
        "id": "ny1Z9n83ytJ8"
      },
      "outputs": [],
      "source": [
        "import numpy as np\n",
        "\n",
        "class Perceptron(object):\n",
        "  def __init__(self, learning_rate=0.01, n_iterations=1000):\n",
        "    self.learning_rate = learning_rate\n",
        "    self.n_iterations = n_iterations\n",
        "    self.weights = None\n",
        "    self.bias = None\n",
        "\n",
        "  def fit(self, X, y):\n",
        "    n_samples, n_features = X.shape\n",
        "\n",
        "    # Inicializar pesos y sesgo (bias) con ceros\n",
        "    self.weights = np.random.rand(n_features) * 0.01\n",
        "    self.bias = 0\n",
        "\n",
        "\n",
        "    # Etiquetas y deben ser 1 o -1\n",
        "    y_ = np.array([1 if i > 0.5 else -1 for i in y])\n",
        "\n",
        "    # Proceso de aprendizaje\n",
        "    for _ in range(self.n_iterations):\n",
        "      for idx, x_i in enumerate(X):\n",
        "        condition = y_[idx] * (np.dot(x_i, self.weights) + self.bias) >= 1\n",
        "        if not condition:\n",
        "          self.weights += self.learning_rate * y_[idx] * x_i\n",
        "          self.bias += self.learning_rate * y_[idx]\n",
        "\n",
        "  def predict(self, X):\n",
        "    linear_output = np.dot(X, self.weights) + self.bias\n",
        "    predicted_labels = np.where(linear_output >= 0, 1, 0)\n",
        "    return predicted_labels"
      ]
    },
    {
      "cell_type": "code",
      "source": [
        "# Ejemplo de uso del Perceptrón\n",
        "\n",
        "import numpy as np\n",
        "\n",
        "# Datos de entrenamiento (X) y etiquetas (y)\n",
        "X = np.array([\n",
        "    [0, 0, 0],\n",
        "    [0, 0, 1],\n",
        "    [0, 1, 0],\n",
        "    [0, 1, 1],\n",
        "    [1, 0, 0],\n",
        "    [1, 0, 1],\n",
        "    [1, 1, 0],\n",
        "    [1, 1, 1]\n",
        "])\n",
        "y = np.array([0, 1, 1, 1, 1, 1, 1, 1])  # Etiquetas de clase"
      ],
      "metadata": {
        "id": "UpveptHVy3Ar"
      },
      "execution_count": null,
      "outputs": []
    },
    {
      "cell_type": "code",
      "source": [
        "# Crear y entrenar el perceptrón\n",
        "perceptron = Perceptron(learning_rate=0.01, n_iterations=1000)\n",
        "perceptron.fit(X, y)"
      ],
      "metadata": {
        "id": "34DVj3Hqy484"
      },
      "execution_count": null,
      "outputs": []
    },
    {
      "cell_type": "code",
      "source": [
        "# Predecir las etiquetas de clase\n",
        "predictions = perceptron.predict(X)\n",
        "print(\"Predicciones:\", predictions)"
      ],
      "metadata": {
        "colab": {
          "base_uri": "https://localhost:8080/"
        },
        "id": "HUFHM7Ajy6oF",
        "outputId": "4300a8fe-b6c6-4646-86db-5796a43d3aca"
      },
      "execution_count": null,
      "outputs": [
        {
          "output_type": "stream",
          "name": "stdout",
          "text": [
            "Predicciones: [0 1 1 1 1 1 1 1]\n"
          ]
        }
      ]
    }
  ]
}